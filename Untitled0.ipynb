{
  "nbformat": 4,
  "nbformat_minor": 0,
  "metadata": {
    "colab": {
      "provenance": [],
      "authorship_tag": "ABX9TyOLn6d+5x0G01d4JvWbQ3XP",
      "include_colab_link": true
    },
    "kernelspec": {
      "name": "python3",
      "display_name": "Python 3"
    },
    "language_info": {
      "name": "python"
    }
  },
  "cells": [
    {
      "cell_type": "markdown",
      "metadata": {
        "id": "view-in-github",
        "colab_type": "text"
      },
      "source": [
        "<a href=\"https://colab.research.google.com/github/VitorTocolli/programa-o-orientada-a-objeto/blob/main/Untitled0.ipynb\" target=\"_parent\"><img src=\"https://colab.research.google.com/assets/colab-badge.svg\" alt=\"Open In Colab\"/></a>"
      ]
    },
    {
      "cell_type": "code",
      "source": [],
      "metadata": {
        "id": "AimgUyinex6T"
      },
      "execution_count": null,
      "outputs": []
    },
    {
      "cell_type": "markdown",
      "source": [
        "Ex 1) Converter F para C\n",
        "OBS:\n",
        "Entrada: F\n"
      ],
      "metadata": {
        "id": "lgJxqzCQe6cN"
      }
    },
    {
      "cell_type": "code",
      "source": [
        "F = float (input(\"Digite valor em graus ferenheit: \"))\n",
        "C = (5/9)*(F-32)\n",
        "print(f\"O valor de {F}F Corresponde ao valor de {C}C\")"
      ],
      "metadata": {
        "colab": {
          "base_uri": "https://localhost:8080/"
        },
        "id": "ZUEyFllWfDOd",
        "outputId": "7bf61be9-0fac-4253-aacc-91c90bc222d3"
      },
      "execution_count": 10,
      "outputs": [
        {
          "output_type": "stream",
          "name": "stdout",
          "text": [
            "Digite valor em graus ferenheit: 8\n",
            "O valor de 8.0F Corresponde ao valor de -13.333333333333334C\n"
          ]
        }
      ]
    },
    {
      "cell_type": "markdown",
      "source": [
        "Ex 2) Converter polegadas para milimetros\n",
        "Entrada: P\n",
        "Processamento: MM = P*25.4"
      ],
      "metadata": {
        "id": "DbSHv3GRjtSX"
      }
    },
    {
      "cell_type": "code",
      "source": [
        "P = float(input(\"Digite o valor em polegadas: \"))\n",
        "MM = P*25.4\n",
        "print(f\"O valor de {P}pol corresponde ao valor de {MM}MM\")"
      ],
      "metadata": {
        "colab": {
          "base_uri": "https://localhost:8080/"
        },
        "id": "2YAmvoOikDpd",
        "outputId": "a942c257-84b1-44e6-8936-a44b6a154440"
      },
      "execution_count": 11,
      "outputs": [
        {
          "output_type": "stream",
          "name": "stdout",
          "text": [
            "Digite o valor em polegadas: 9\n",
            "O valor de 9.0pol corresponde ao valor de 228.6MM\n"
          ]
        }
      ]
    },
    {
      "cell_type": "markdown",
      "source": [
        "Ex 3) Converter MM para polegadas"
      ],
      "metadata": {
        "id": "Zf9QVndrlq4l"
      }
    },
    {
      "cell_type": "code",
      "source": [
        "MM = float(input(\"Digite o valor em milimetros: \"))\n",
        "P = MM/25.4\n",
        "print(f\"O valor de {MM}mil corresponde ao valor de {P}P\")"
      ],
      "metadata": {
        "colab": {
          "base_uri": "https://localhost:8080/"
        },
        "id": "qmZ-TVTqmOPx",
        "outputId": "e177c1e6-6b91-4944-c32b-17784dc30c7d"
      },
      "execution_count": 12,
      "outputs": [
        {
          "output_type": "stream",
          "name": "stdout",
          "text": [
            "Digite o valor em milimetros: 8\n",
            "O valor de 8.0mil corresponde ao valor de 0.31496062992125984P\n"
          ]
        }
      ]
    },
    {
      "cell_type": "markdown",
      "source": [
        "eX 4)solicitar e confirmar a idade dop usuário:"
      ],
      "metadata": {
        "id": "Z1m5KOVCm-CE"
      }
    },
    {
      "cell_type": "code",
      "source": [
        "idade = int(input(\"Digite a sua idade: \"))\n",
        "if 16<= idade <70:\n",
        " print(\"Você está na faixa de idade entre 16 e 70 anos\")\n",
        "else:\n",
        "   print(\"Você não está na faixa de idade entre 16 e 70 anos\")"
      ],
      "metadata": {
        "colab": {
          "base_uri": "https://localhost:8080/"
        },
        "id": "35vcc1cxnMDF",
        "outputId": "a0b836b2-c997-4b5b-e0b9-699d875f9940"
      },
      "execution_count": 26,
      "outputs": [
        {
          "output_type": "stream",
          "name": "stdout",
          "text": [
            "Digite a sua idade: 8\n",
            "Você não está na faixa de idade entre 16 e 70 anos\n"
          ]
        }
      ]
    },
    {
      "cell_type": "markdown",
      "source": [
        "Ex 5)  um programa que receba o raio (r) de uma esfera, e\n",
        "em seguida calcule e exibir o seu volume (v) desta esfera"
      ],
      "metadata": {
        "id": "4sOMuF7QpXZE"
      }
    },
    {
      "cell_type": "code",
      "source": [
        "R = float(input(\"Digite o raio do circulo: \"))\n",
        "V = ((4/3)*3.14*(R**3))\n",
        "print(f\"O valor de {R}R é igual a {V} volume\")"
      ],
      "metadata": {
        "colab": {
          "base_uri": "https://localhost:8080/"
        },
        "id": "MErhgU05pqTi",
        "outputId": "e45ea920-6fc3-455f-aeb4-d56d99cede9d"
      },
      "execution_count": 34,
      "outputs": [
        {
          "output_type": "stream",
          "name": "stdout",
          "text": [
            "Digite o raio do circulo: 10\n",
            "O valor de 10.0R é igual a 4186.666666666667 volume\n"
          ]
        }
      ]
    },
    {
      "cell_type": "markdown",
      "source": [
        "Ex 6) código para um programa que receba o valor de um ângulo em\n",
        "radianos, e converta este valor para graus.\n"
      ],
      "metadata": {
        "id": "t4PCwrFqtAX1"
      }
    },
    {
      "cell_type": "code",
      "source": [
        "R = float(input(\"Digite o valor do ângulo radiano: \"))\n",
        "G = (R*180 /3.14)\n",
        "print(f\"O valor de {R}R ém graus é igual a {G}\")"
      ],
      "metadata": {
        "colab": {
          "base_uri": "https://localhost:8080/"
        },
        "id": "lUNIsQ2ky2iM",
        "outputId": "92c70e04-e56a-435a-b806-814ffdf9ad8c"
      },
      "execution_count": 35,
      "outputs": [
        {
          "output_type": "stream",
          "name": "stdout",
          "text": [
            "Digite o valor do ângulo radiano: 1\n",
            "O valor de 1.0R ém graus é igual a 57.324840764331206\n"
          ]
        }
      ]
    },
    {
      "cell_type": "markdown",
      "source": [
        "Ex 7) código que recebe um valor em graus e converte para radiano"
      ],
      "metadata": {
        "id": "i-dfSczDzknJ"
      }
    },
    {
      "cell_type": "code",
      "source": [
        "G = float(input(\"Digite o valor em graus: \"))\n",
        "R = (G*3.14 /180)\n",
        "print(f\"O valor de {G} é equivalente a {R} em radiano\")"
      ],
      "metadata": {
        "colab": {
          "base_uri": "https://localhost:8080/"
        },
        "id": "SNlDq7Q4z335",
        "outputId": "680b7970-ea2e-47fb-a49b-6f9aac64c805"
      },
      "execution_count": 36,
      "outputs": [
        {
          "output_type": "stream",
          "name": "stdout",
          "text": [
            "Digite o valor em graus: 1\n",
            "O valor de 1.0 é equivalente a 0.017444444444444446 em radiano\n"
          ]
        }
      ]
    },
    {
      "cell_type": "markdown",
      "source": [
        "Ex 8)código para um programa que receba ângulo em radianos, e\n",
        "converta este valor para grados. Lembrar que 400 grados equivalem a 27.\n"
      ],
      "metadata": {
        "id": "33pt9MQF0YpC"
      }
    },
    {
      "cell_type": "code",
      "source": [
        "R = float(input(\"Escreva o valor em radiano: \"))\n",
        "G = (R*200 /3.14)\n",
        "print(f\"O valor de {R} é equivalente a {G} em grados\")"
      ],
      "metadata": {
        "colab": {
          "base_uri": "https://localhost:8080/"
        },
        "id": "rAtcytKG0iKv",
        "outputId": "2d0bc2ca-8b98-4026-ac45-1f853239ce28"
      },
      "execution_count": 37,
      "outputs": [
        {
          "output_type": "stream",
          "name": "stdout",
          "text": [
            "Escreva o valor em radiano: 1\n",
            "O valor de 1.0 é equivalente a 63.69426751592356 em grados\n"
          ]
        }
      ]
    }
  ]
}